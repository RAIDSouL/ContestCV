{
  "nbformat": 4,
  "nbformat_minor": 0,
  "metadata": {
    "colab": {
      "name": "Run_All.ipynb",
      "provenance": [],
      "include_colab_link": true
    },
    "kernelspec": {
      "name": "python3",
      "display_name": "Python 3"
    },
    "accelerator": "GPU"
  },
  "cells": [
    {
      "cell_type": "markdown",
      "metadata": {
        "id": "view-in-github",
        "colab_type": "text"
      },
      "source": [
        "<a href=\"https://colab.research.google.com/github/RAIDSouL/ContestCV/blob/master/Run_All.ipynb\" target=\"_parent\"><img src=\"https://colab.research.google.com/assets/colab-badge.svg\" alt=\"Open In Colab\"/></a>"
      ]
    },
    {
      "cell_type": "code",
      "metadata": {
        "id": "Cq86kH6rJmFV",
        "colab_type": "code",
        "colab": {
          "base_uri": "https://localhost:8080/",
          "height": 122
        },
        "outputId": "ef04cf70-3111-4650-9740-2f5c2106297b"
      },
      "source": [
        "from google.colab import drive\n",
        "drive.mount('/content/drive')"
      ],
      "execution_count": 1,
      "outputs": [
        {
          "output_type": "stream",
          "text": [
            "Go to this URL in a browser: https://accounts.google.com/o/oauth2/auth?client_id=947318989803-6bn6qk8qdgf4n4g3pfee6491hc0brc4i.apps.googleusercontent.com&redirect_uri=urn%3aietf%3awg%3aoauth%3a2.0%3aoob&response_type=code&scope=email%20https%3a%2f%2fwww.googleapis.com%2fauth%2fdocs.test%20https%3a%2f%2fwww.googleapis.com%2fauth%2fdrive%20https%3a%2f%2fwww.googleapis.com%2fauth%2fdrive.photos.readonly%20https%3a%2f%2fwww.googleapis.com%2fauth%2fpeopleapi.readonly\n",
            "\n",
            "Enter your authorization code:\n",
            "··········\n",
            "Mounted at /content/drive\n"
          ],
          "name": "stdout"
        }
      ]
    },
    {
      "cell_type": "code",
      "metadata": {
        "id": "N0iKbPesKx8t",
        "colab_type": "code",
        "colab": {}
      },
      "source": [
        "import os\n",
        "os.chdir('/content/drive/My Drive/Colab Notebooks')"
      ],
      "execution_count": 0,
      "outputs": []
    },
    {
      "cell_type": "code",
      "metadata": {
        "id": "JhCL-GMJKJFQ",
        "colab_type": "code",
        "colab": {}
      },
      "source": [
        "from keras.preprocessing.image import ImageDataGenerator\n",
        "from keras.callbacks import ModelCheckpoint, Callback\n",
        "from keras import backend as K\n",
        "from keras.models import load_model\n",
        "import matplotlib.pyplot as plt\n",
        "import numpy as np\n",
        "import cv2\n",
        "import os"
      ],
      "execution_count": 0,
      "outputs": []
    },
    {
      "cell_type": "code",
      "metadata": {
        "id": "4QLRlklxKiru",
        "colab_type": "code",
        "colab": {}
      },
      "source": [
        "IMAGE_SIZE = (256,256)"
      ],
      "execution_count": 0,
      "outputs": []
    },
    {
      "cell_type": "code",
      "metadata": {
        "id": "0XzeinYpKjhO",
        "colab_type": "code",
        "colab": {}
      },
      "source": [
        "def iou(y_true, y_pred):\n",
        "    y_true = K.cast(K.greater(y_true, 0.5), dtype='float32')\n",
        "    y_pred = K.cast(K.greater(y_pred, 0.5), dtype='float32')\n",
        "    inter = K.sum(K.sum(K.squeeze(y_true * y_pred, axis=3), axis=2), axis=1)\n",
        "    union = K.sum(K.sum(K.squeeze(K.clip(y_true + y_pred, 0, 1), axis=3), axis=2), axis=1)\n",
        "    return K.mean((inter + K.epsilon()) / (union + K.epsilon()))\n",
        "\n",
        "model = load_model('Models/256/my_model_epoch75.h5',custom_objects={'iou':iou})"
      ],
      "execution_count": 0,
      "outputs": []
    },
    {
      "cell_type": "code",
      "metadata": {
        "id": "c3BHsTK4KcrW",
        "colab_type": "code",
        "colab": {}
      },
      "source": [
        "for i in os.listdir('textlocalize/validation/Input/'):\n",
        "    test_im = cv2.imread('textlocalize/validation/Input/'+str(i))\n",
        "    true_size = test_im.shape\n",
        "    # imshow_size = (512,round(true_size[0]*512/true_size[1]))\n",
        "    # cv2.imshow('Input',cv2.resize(test_im, imshow_size))\n",
        "    # cv2.waitKey(50)\n",
        "\n",
        "    test_im = cv2.cvtColor(test_im, cv2.COLOR_BGR2RGB)\n",
        "    test_im = cv2.resize(test_im, (IMAGE_SIZE[1], IMAGE_SIZE[0]))\n",
        "    test_im = test_im/255.\n",
        "    test_im = np.expand_dims(test_im, axis=0)\n",
        "    segmented = model.predict(test_im)\n",
        "    #segmented = np.around(segmented)\n",
        "    segmented = (segmented[0, :, :, 0]*255).astype('uint8')\n",
        "\n",
        "    # cv2.imshow('Output',cv2.resize(segmented, imshow_size))\n",
        "    # cv2.waitKey()\n",
        "\n",
        "    # old\n",
        "    # cv2.imwrite('Answer/'+str(i),cv2.resize(segmented, imshow_size)) \n",
        "    # new\n",
        "    cv2.imwrite('Output/'+str(i),cv2.resize(segmented,(true_size[1],true_size[0])))"
      ],
      "execution_count": 0,
      "outputs": []
    }
  ]
}